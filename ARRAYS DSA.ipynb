{
 "cells": [
  {
   "cell_type": "code",
   "execution_count": 3,
   "metadata": {},
   "outputs": [],
   "source": [
    "import array as myarray"
   ]
  },
  {
   "cell_type": "code",
   "execution_count": 9,
   "metadata": {},
   "outputs": [],
   "source": [
    "arr = myarray.array('i', [1,2,3,4])\n",
    "arr1 = myarray.array('d' , [1.2,3.3,334.5])\n",
    "arr2 = myarray.array('u' , ['h','y'])"
   ]
  },
  {
   "cell_type": "code",
   "execution_count": 11,
   "metadata": {},
   "outputs": [
    {
     "name": "stdout",
     "output_type": "stream",
     "text": [
      "i\n",
      "d\n"
     ]
    }
   ],
   "source": [
    "print(arr.typecode)\n",
    "print(arr1.typecode)"
   ]
  },
  {
   "cell_type": "code",
   "execution_count": 14,
   "metadata": {},
   "outputs": [
    {
     "name": "stdout",
     "output_type": "stream",
     "text": [
      "array('i', [1, 2, 3, 4])\n",
      "array('d', [1.2, 3.3, 334.5])\n",
      "array('u', 'hy')\n"
     ]
    }
   ],
   "source": [
    "print(arr)\n",
    "print(arr1)\n",
    "print(arr2)"
   ]
  },
  {
   "cell_type": "code",
   "execution_count": 16,
   "metadata": {},
   "outputs": [
    {
     "name": "stdout",
     "output_type": "stream",
     "text": [
      "3\n",
      "2\n",
      "4\n"
     ]
    }
   ],
   "source": [
    "print(len(arr1))\n",
    "print(len(arr2))\n",
    "print(len(arr))"
   ]
  },
  {
   "cell_type": "code",
   "execution_count": 27,
   "metadata": {},
   "outputs": [
    {
     "name": "stdout",
     "output_type": "stream",
     "text": [
      "1 2 3 4 \n",
      "\n",
      "1.2 3.3 334.5 \n",
      "\n",
      "h y \n",
      "\n"
     ]
    }
   ],
   "source": [
    "for i in range(0,len(arr)):\n",
    "    print(arr[i],end=\" \")\n",
    "print(\"\\n\")\n",
    "for i in range(0,len(arr1)):\n",
    "    print(arr1[i],end=\" \")\n",
    "print(\"\\n\")\n",
    "for i in range(len(arr2)):\n",
    "    print(arr2[i],end=\" \")\n",
    "print(\"\\n\")"
   ]
  },
  {
   "cell_type": "code",
   "execution_count": 31,
   "metadata": {},
   "outputs": [],
   "source": [
    "x = list(range(1,100,2))\n",
    "new_array=myarray.array('i' , x)"
   ]
  },
  {
   "cell_type": "code",
   "execution_count": 32,
   "metadata": {},
   "outputs": [
    {
     "name": "stdout",
     "output_type": "stream",
     "text": [
      "1 3 5 7 9 11 13 15 17 19 21 23 25 27 29 31 33 35 37 39 41 43 45 47 49 51 53 55 57 59 61 63 65 67 69 71 73 75 77 79 81 83 85 87 89 91 93 95 97 99 \n",
      "\n"
     ]
    }
   ],
   "source": [
    "for i in range(len(new_array)):\n",
    "    print(new_array[i],end = \" \")\n",
    "print(\"\\n\")"
   ]
  },
  {
   "cell_type": "code",
   "execution_count": 47,
   "metadata": {},
   "outputs": [
    {
     "name": "stdout",
     "output_type": "stream",
     "text": [
      "3 4 5 6 7 8 9 \n",
      "1 2 3 4 5 6 7 8 9 \n"
     ]
    }
   ],
   "source": [
    "new_arr = myarray.array(\"i\" , [3,4,5,6,7,8,9])\n",
    "for i in range(len(new_arr)):\n",
    "    print(new_arr[i],end=\" \")\n",
    "print(end=\"\\n\")\n",
    "new_arr.insert(0,2)\n",
    "new_arr.insert(0,1)\n",
    "for i in range(len(new_arr)):\n",
    "    print(new_arr[i], end=\" \")\n",
    "print(end= \"\\n\")\n"
   ]
  },
  {
   "cell_type": "code",
   "execution_count": 43,
   "metadata": {},
   "outputs": [
    {
     "data": {
      "text/plain": [
       "array('i', [1, 2, 2, 1, 3, 4, 5, 6, 7, 8, 9])"
      ]
     },
     "execution_count": 43,
     "metadata": {},
     "output_type": "execute_result"
    }
   ],
   "source": [
    "new_arr"
   ]
  },
  {
   "cell_type": "code",
   "execution_count": 48,
   "metadata": {},
   "outputs": [
    {
     "name": "stdout",
     "output_type": "stream",
     "text": [
      "1 2 2 4 5 \n"
     ]
    }
   ],
   "source": [
    "new_array = myarray.array(\"i\", [1,2,2,4,5])\n",
    "for i in range(len(new_array)):\n",
    "    print(new_array[i],end=\" \")\n",
    "print(end=\"\\n\")"
   ]
  },
  {
   "cell_type": "code",
   "execution_count": 49,
   "metadata": {},
   "outputs": [
    {
     "name": "stdout",
     "output_type": "stream",
     "text": [
      "1 2 3 4 5 \n"
     ]
    }
   ],
   "source": [
    "new_array[2] = 3\n",
    "for i in range(len(new_array)):\n",
    "    print(new_array[i],end=\" \")\n",
    "print(end=\"\\n\")"
   ]
  },
  {
   "cell_type": "code",
   "execution_count": 51,
   "metadata": {},
   "outputs": [
    {
     "name": "stdout",
     "output_type": "stream",
     "text": [
      "1 2 5 \n"
     ]
    }
   ],
   "source": [
    "new_array.pop(2)\n",
    "for i in range(len(new_array)):\n",
    "    print(new_array[i],end=\" \")\n",
    "print(end=\"\\n\")"
   ]
  },
  {
   "cell_type": "code",
   "execution_count": 62,
   "metadata": {},
   "outputs": [
    {
     "name": "stdout",
     "output_type": "stream",
     "text": [
      "30 33 36 39 42 45 48 51 54 57 \n",
      "\n",
      "30 33 36 39 42 45 48 51 54 57 60 63 66 69 \n",
      "\n",
      "99 96 93 90 87 84 81 78 75 72 69 66 63 60 57 54 51 48 45 42 39 36 33 30 27 24 21 18 15 12 9 6 3 0 \n",
      "\n"
     ]
    }
   ],
   "source": [
    "x = list(range(0,100,3))\n",
    "arr = myarray.array(\"i\",x)\n",
    "arr0 = arr[10:20]\n",
    "for i in range(0,len(arr0)):\n",
    "    print(arr0[i],end=\" \")\n",
    "print(\"\\n\")\n",
    "arr1 = arr[10:-10]\n",
    "for i in range(0,len(arr1)):\n",
    "    print(arr1[i],end=\" \")\n",
    "print(\"\\n\")\n",
    "arr2 = arr[::-1]\n",
    "for i in range(0,len(arr2)):\n",
    "    print(arr2[i],end=\" \")\n",
    "print(\"\\n\")"
   ]
  },
  {
   "cell_type": "code",
   "execution_count": 65,
   "metadata": {},
   "outputs": [
    {
     "name": "stdout",
     "output_type": "stream",
     "text": [
      "0 2 4 6 8 10 12 14 16 18 \n",
      "\n"
     ]
    }
   ],
   "source": [
    "x = list(range(0,1000000,2))\n",
    "search_array = myarray.array(\"i\" , x)\n",
    "for i in range(len(search_array[0:10])):\n",
    "    print(search_array[i],end=\" \")\n",
    "print(\"\\n\")"
   ]
  },
  {
   "cell_type": "code",
   "execution_count": 66,
   "metadata": {},
   "outputs": [
    {
     "name": "stdout",
     "output_type": "stream",
     "text": [
      "5001 10002\n"
     ]
    }
   ],
   "source": [
    "index = search_array.index(10002)\n",
    "res = search_array[index]\n",
    "print(index,res)"
   ]
  },
  {
   "cell_type": "code",
   "execution_count": 69,
   "metadata": {},
   "outputs": [
    {
     "name": "stdout",
     "output_type": "stream",
     "text": [
      "[1, 2, 4, 5, 6, 7, 8]\n",
      "[8, 7, 6, 5, 4, 2, 1]\n"
     ]
    }
   ],
   "source": [
    "sort_array=myarray.array('i' ,[5,6,7,1,2,4,8])\n",
    "sorted_array = sort_array.tolist()\n",
    "sorted_array.sort()\n",
    "print(sorted_array)\n",
    "sorted_array.sort(reverse=True)\n",
    "print(sorted_array)"
   ]
  },
  {
   "cell_type": "raw",
   "metadata": {},
   "source": []
  },
  {
   "cell_type": "code",
   "execution_count": 70,
   "metadata": {},
   "outputs": [],
   "source": [
    "import numpy as np"
   ]
  },
  {
   "cell_type": "code",
   "execution_count": 71,
   "metadata": {},
   "outputs": [],
   "source": [
    "arr = np.array([1,2,3,4,5])"
   ]
  },
  {
   "cell_type": "code",
   "execution_count": 72,
   "metadata": {},
   "outputs": [
    {
     "data": {
      "text/plain": [
       "array([1, 2, 3, 4, 5])"
      ]
     },
     "execution_count": 72,
     "metadata": {},
     "output_type": "execute_result"
    }
   ],
   "source": [
    "arr"
   ]
  },
  {
   "cell_type": "code",
   "execution_count": 79,
   "metadata": {},
   "outputs": [],
   "source": [
    "zeros = np.zeros((2,2))\n",
    "ones = np.ones((2,2))\n",
    "const = np.full((3,3),5)\n",
    "iden = np.eye(3)"
   ]
  },
  {
   "cell_type": "code",
   "execution_count": 80,
   "metadata": {},
   "outputs": [
    {
     "name": "stdout",
     "output_type": "stream",
     "text": [
      "[[0. 0.]\n",
      " [0. 0.]]\n",
      "[[1. 1.]\n",
      " [1. 1.]]\n",
      "[[5 5 5]\n",
      " [5 5 5]\n",
      " [5 5 5]]\n",
      "[[1. 0. 0.]\n",
      " [0. 1. 0.]\n",
      " [0. 0. 1.]]\n"
     ]
    }
   ],
   "source": [
    "print(zeros)\n",
    "print(ones)\n",
    "print(const)\n",
    "print(iden)"
   ]
  },
  {
   "cell_type": "code",
   "execution_count": 81,
   "metadata": {},
   "outputs": [],
   "source": [
    "random=np.random.random((2,2))"
   ]
  },
  {
   "cell_type": "code",
   "execution_count": 82,
   "metadata": {},
   "outputs": [
    {
     "data": {
      "text/plain": [
       "array([[0.53718077, 0.90889418],\n",
       "       [0.09358637, 0.63106307]])"
      ]
     },
     "execution_count": 82,
     "metadata": {},
     "output_type": "execute_result"
    }
   ],
   "source": [
    "random"
   ]
  },
  {
   "cell_type": "code",
   "execution_count": 83,
   "metadata": {},
   "outputs": [],
   "source": [
    "oned = np.array(1)"
   ]
  },
  {
   "cell_type": "code",
   "execution_count": 84,
   "metadata": {},
   "outputs": [
    {
     "data": {
      "text/plain": [
       "array(1)"
      ]
     },
     "execution_count": 84,
     "metadata": {},
     "output_type": "execute_result"
    }
   ],
   "source": [
    "oned"
   ]
  },
  {
   "cell_type": "code",
   "execution_count": 85,
   "metadata": {},
   "outputs": [],
   "source": [
    "x = np.array([[1,2,3,4,445],[2,3,4,4,5]])"
   ]
  },
  {
   "cell_type": "code",
   "execution_count": 86,
   "metadata": {},
   "outputs": [
    {
     "data": {
      "text/plain": [
       "array([[  1,   2,   3,   4, 445],\n",
       "       [  2,   3,   4,   4,   5]])"
      ]
     },
     "execution_count": 86,
     "metadata": {},
     "output_type": "execute_result"
    }
   ],
   "source": [
    "x"
   ]
  },
  {
   "cell_type": "code",
   "execution_count": 90,
   "metadata": {},
   "outputs": [
    {
     "name": "stdout",
     "output_type": "stream",
     "text": [
      "[[2 4 6 8]]\n"
     ]
    }
   ],
   "source": [
    "a = np.array([[1,2,3,4]], dtype=np.int64)\n",
    "b = np.array([[1,2,3,4]], dtype=np.int64)\n",
    "addition = np.add(a,b)\n",
    "print(addition)"
   ]
  },
  {
   "cell_type": "code",
   "execution_count": 97,
   "metadata": {},
   "outputs": [
    {
     "name": "stdout",
     "output_type": "stream",
     "text": [
      "0 1 2 3 4 5 6 7 8 9 \n"
     ]
    }
   ],
   "source": [
    "x = list(range(10))\n",
    "arr =myarray.array(\"i\", x)\n",
    "for i in range(len(arr)):\n",
    "    print(arr[i],end= \" \")\n",
    "print(end=\"\\n\")\n",
    "arr.insert(0,1)"
   ]
  },
  {
   "cell_type": "code",
   "execution_count": 107,
   "metadata": {},
   "outputs": [
    {
     "name": "stdout",
     "output_type": "stream",
     "text": [
      "\n",
      "\n"
     ]
    }
   ],
   "source": [
    "x = list(range(0,100000,2))\n",
    "arry = myarray.array(\"i\",x)\n",
    "for i in range(len(arry[10:10])):\n",
    "    print(arry[i],end= \" \")\n",
    "print(\"\\n\")\n"
   ]
  },
  {
   "cell_type": "code",
   "execution_count": 6,
   "metadata": {},
   "outputs": [
    {
     "name": "stdout",
     "output_type": "stream",
     "text": [
      "enter the rows2\n",
      "enter the cols3\n"
     ]
    },
    {
     "ename": "TypeError",
     "evalue": "'generator' object does not support item assignment",
     "output_type": "error",
     "traceback": [
      "\u001b[1;31m---------------------------------------------------------------------------\u001b[0m",
      "\u001b[1;31mTypeError\u001b[0m                                 Traceback (most recent call last)",
      "\u001b[1;32m<ipython-input-6-e94e03f3c6f9>\u001b[0m in \u001b[0;36m<module>\u001b[1;34m\u001b[0m\n\u001b[0;32m      5\u001b[0m \u001b[1;32mfor\u001b[0m \u001b[0mrow\u001b[0m \u001b[1;32min\u001b[0m \u001b[0mrange\u001b[0m\u001b[1;33m(\u001b[0m\u001b[0mr_nums\u001b[0m\u001b[1;33m)\u001b[0m\u001b[1;33m:\u001b[0m\u001b[1;33m\u001b[0m\u001b[1;33m\u001b[0m\u001b[0m\n\u001b[0;32m      6\u001b[0m     \u001b[1;32mfor\u001b[0m \u001b[0mcol\u001b[0m \u001b[1;32min\u001b[0m \u001b[0mrange\u001b[0m\u001b[1;33m(\u001b[0m\u001b[0mc_nums\u001b[0m\u001b[1;33m)\u001b[0m\u001b[1;33m:\u001b[0m\u001b[1;33m\u001b[0m\u001b[1;33m\u001b[0m\u001b[0m\n\u001b[1;32m----> 7\u001b[1;33m         \u001b[0mtwod_arr\u001b[0m\u001b[1;33m[\u001b[0m\u001b[0mrow\u001b[0m\u001b[1;33m]\u001b[0m\u001b[1;33m[\u001b[0m\u001b[0mcol\u001b[0m\u001b[1;33m]\u001b[0m\u001b[1;33m=\u001b[0m \u001b[0mrow\u001b[0m\u001b[1;33m*\u001b[0m\u001b[0mcol\u001b[0m\u001b[1;33m\u001b[0m\u001b[1;33m\u001b[0m\u001b[0m\n\u001b[0m\u001b[0;32m      8\u001b[0m \u001b[0mprint\u001b[0m\u001b[1;33m(\u001b[0m\u001b[0mtwod_arr\u001b[0m\u001b[1;33m)\u001b[0m\u001b[1;33m\u001b[0m\u001b[1;33m\u001b[0m\u001b[0m\n",
      "\u001b[1;31mTypeError\u001b[0m: 'generator' object does not support item assignment"
     ]
    }
   ],
   "source": [
    "r_nums = int(input(\"enter the rows\"))\n",
    "c_nums = int(input(\"enter the cols\"))\n",
    "twod_arr = [(0 for col in range(c_nums) for row in range(r_nums))]\n",
    "\n",
    "for row in range(r_nums):\n",
    "    for col in range(c_nums):\n",
    "        twod_arr[row][col]= row*col\n",
    "print(twod_arr)"
   ]
  },
  {
   "cell_type": "code",
   "execution_count": 7,
   "metadata": {},
   "outputs": [
    {
     "name": "stdout",
     "output_type": "stream",
     "text": [
      "enter the rows2\n",
      "enter the cols3\n",
      "[[0, 0, 0], [0, 1, 2]]\n"
     ]
    }
   ],
   "source": [
    "r_num = int(input(\"enter the rows\"))\n",
    "c_num = int(input(\"enter the cols\"))\n",
    "twod_arr = [[0 for col in range(c_nums)] for row in range(r_nums)]\n",
    "\n",
    "for row in range(r_nums):\n",
    "    for col in range(c_nums):\n",
    "        twod_arr[row][col]= row*col\n",
    "print(twod_arr)"
   ]
  },
  {
   "cell_type": "code",
   "execution_count": 13,
   "metadata": {},
   "outputs": [
    {
     "name": "stdout",
     "output_type": "stream",
     "text": [
      "enter the rows2\n",
      "enter the cols3\n",
      "[[0, 0, 0], [0, 0, 0]]\n",
      "[[0, 0, 0], [0, 1, 2]]\n"
     ]
    }
   ],
   "source": [
    "n_rows = int(input(\"enter the rows\"))\n",
    "n_cols = int(input(\"enter the cols\"))\n",
    "two_d = [[0 for col in range(n_cols)] for row in range(n_rows)]\n",
    "\n",
    "for row in range(n_rows):\n",
    "    for col in range(n_cols):\n",
    "        two_d[row][col]=row*col\n",
    "    print(two_d)"
   ]
  },
  {
   "cell_type": "code",
   "execution_count": null,
   "metadata": {},
   "outputs": [],
   "source": []
  }
 ],
 "metadata": {
  "kernelspec": {
   "display_name": "Python 3",
   "language": "python",
   "name": "python3"
  },
  "language_info": {
   "codemirror_mode": {
    "name": "ipython",
    "version": 3
   },
   "file_extension": ".py",
   "mimetype": "text/x-python",
   "name": "python",
   "nbconvert_exporter": "python",
   "pygments_lexer": "ipython3",
   "version": "3.8.5"
  }
 },
 "nbformat": 4,
 "nbformat_minor": 4
}
